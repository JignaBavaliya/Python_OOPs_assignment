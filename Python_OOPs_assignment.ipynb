{
 "cells": [
  {
   "cell_type": "markdown",
   "id": "d1802fc1-7ce4-4ab8-b240-0076fecfa5cd",
   "metadata": {},
   "source": [
    "# Python OOPs Questions"
   ]
  },
  {
   "cell_type": "markdown",
   "id": "f415118f-09b0-4294-b1de-6d899d21593c",
   "metadata": {},
   "source": [
    "1. What is Object-Oriented Programming (OOP)?\n",
    "- Object-oriented programming is a programming paradigm that is based on the concept of \"objects\", which can contain data and code that manipulates that data. In OOP, objects are created from templates called \"classes\", which define the properties and behavior of the objects they create.\n"
   ]
  },
  {
   "cell_type": "markdown",
   "id": "50567263-1c4d-4d66-ae8e-75db5db34b56",
   "metadata": {},
   "source": [
    "2. What is a class in OOP?\n",
    "- In Object-Oriented Programming (OOP), a class is a user-defined blueprint or template for creating objects, defining their shared characteristics (attributes) and behaviors (methods). It is a logical structure that serves as a prototype for objects, which are individual instances of that class, allowing for code reusability and modularity by defining common properties and functions.  "
   ]
  },
  {
   "cell_type": "markdown",
   "id": "6663badb-d511-44d9-9db3-deb91556b897",
   "metadata": {},
   "source": [
    "3. What is an object in OOP?\n",
    "- An object in Object-Oriented Programming (OOP) is a concrete instance of a class that combines data (its attributes) and the procedures that can operate on that data (its methods). It is the fundamental building block of an OOP application and represents a real-world or abstract entity."
   ]
  },
  {
   "cell_type": "markdown",
   "id": "6c1dd7e3-9fe6-40e4-a8d2-65c7df627847",
   "metadata": {},
   "source": [
    "4. What is the difference between abstraction and encapsulation?\n",
    "- Abstraction, To hide unnecessary details and show only the essential features of an object. Encapsulation, To bind data and methods into a single unit and restrict direct access to the data.\n",
    "- Abstraction focuses on What an object does, not how it does it. Encapsulation focuses on How an object's data and methods are organized and protected.\n",
    "- Abstraction is achieved by Abstract classes and interfaces. Encapsulation is achieved by Access modifiers (public, private, protected) and classes.\n",
    "- Key benifit of abstraction is that it reduces complexity for the user by focusing on the relevant aspects. & Key benefit of the encapsulation is that it ensures data security, integrity, and prevents misuse.\n",
    "\n",
    "\n",
    "\n"
   ]
  },
  {
   "cell_type": "markdown",
   "id": "e1bcb1fe-fb18-4458-929c-e4cf149544e2",
   "metadata": {},
   "source": [
    "5. What are dunder methods in Python?\n",
    "- Dunder methods, also known as magic methods or special methods, are a core feature of Python's object-oriented programming paradigm. The term \"dunder\" is a shorthand for \"double underscore,\" referring to the double underscores that prefix and suffix their names, such as __init__, __add__, or __str__. These methods allow instances of a class to interact with built-in functions, operators, and other language constructs in a customized way. Essentially, they provide a means for operator overloading and defining how custom objects behave in various scenarios.\n",
    "\n"
   ]
  },
  {
   "cell_type": "markdown",
   "id": "9ab7fd87-8f1a-4ee3-8949-af5d5850fa1a",
   "metadata": {},
   "source": [
    "6. Explain the concept of inheritance in OOP?\n",
    "- Inheritance in OOP is a mechanism where a new class (child class) acquires the properties (attributes) and behaviors (methods) of an existing class (parent class), promoting code reuse and establishing an \"is-a\" hierarchical relationship. This allows for the creation of specialized classes from general ones, like a Dog class inheriting from an Animal class, enabling the child to use the parent's features and add its own unique ones. \n"
   ]
  },
  {
   "cell_type": "markdown",
   "id": "bb49f172-5876-49f4-b97a-5bb82d7f4604",
   "metadata": {},
   "source": [
    "7. What is polymorphism in OOP?\n",
    "- Polymorphism in object-oriented programming is the ability of a single interface to represent multiple different forms or behaviors, allowing objects of different classes to be treated as if they share a common type. This feature enhances code flexibility, reusability, and adaptability by enabling different objects to perform the same action in their own unique ways. Polymorphism is achieved through mechanisms like method overriding (also known as runtime polymorphism) and method overloading (compile-time polymorphism). \n"
   ]
  },
  {
   "cell_type": "markdown",
   "id": "29408722-5071-4b92-af6b-22811e145d51",
   "metadata": {},
   "source": [
    "8. How is encapsulation achieved in Python?\n",
    "- Encapsulation in Python, while not as strictly enforced as in some other object-oriented languages, is primarily achieved through a combination of conventions and features:\n",
    "Classes: The fundamental mechanism for encapsulation in Python is the class. Classes bundle data (attributes) and the methods that operate on that data into a single, cohesive unit.\n",
    "Access Modifiers (by convention): Python does not have explicit public, private, or protected keywords. Instead, it uses naming conventions to indicate intended access levels: \n",
    "Public Members: Attributes and methods without any special prefix are considered public and are directly accessible from outside the class.\n",
    "Protected Members (single underscore _): Attributes or methods prefixed with a single underscore (e.g., _protected_attribute) are conventionally treated as \"protected.\" This indicates to other developers that these members are intended for internal use within the class or its subclasses, though they are still technically accessible from outside.\n",
    "Private Members (double underscore __): Attributes or methods prefixed with a double underscore (e.g., __private_attribute) are conventionally treated as \"private.\" Python performs \"name mangling\" on these members, making them harder to access directly from outside the class (though not impossible, as direct access is still possible by knowing the mangled name). This convention strongly signals that these members are intended for internal class use only.\n",
    "Getters and Setters: To provide controlled access to \"private\" or \"protected\" attributes, getter and setter methods are commonly used. These methods encapsulate the logic for retrieving and modifying attribute values, allowing for validation or other operations before the actual data is accessed or changed."
   ]
  },
  {
   "cell_type": "markdown",
   "id": "55713aac-cc31-43e2-9745-d7d8b4ac6593",
   "metadata": {},
   "source": [
    "9. What is a constructor in Python?\n",
    "- In Python, a constructor is a special method used to initialize new objects of a class. It is automatically called when an object of the class is created. The primary purpose of a constructor is to set up the initial state of the object by assigning values to its attributes or executing any necessary setup logic. \n",
    "The constructor in Python is defined using the special method __init__. \n"
   ]
  },
  {
   "cell_type": "markdown",
   "id": "fc2c1b08-bb70-4c6c-bb0c-d2a6352bbf52",
   "metadata": {},
   "source": [
    "10. What are class and static methods in Python?\n",
    "- In Python, both class methods and static methods are defined within a class but differ in how they interact with the class and its instances.\n",
    "- A class method is bound to the class and receives the class itself as its first argument, conventionally named cls. It is defined using the @classmethod decorator.\n",
    "- A static method is a function defined within a class but does not receive the class (cls) or instance (self) as its first argument. It is defined using the @staticmethod decorator."
   ]
  },
  {
   "cell_type": "markdown",
   "id": "51fa73a7-dcaa-4000-83ec-570e031700de",
   "metadata": {},
   "source": [
    "11. What is method overloading in Python?\n",
    "- Method overloading refers to the ability to define multiple methods within a single class that share the same name but differ in their parameters (number, type, or both). This allows a single method name to perform different actions based on the arguments provided during the call.\n"
   ]
  },
  {
   "cell_type": "markdown",
   "id": "4bc3afbb-8d29-4d1c-bac3-c66a5707e50f",
   "metadata": {},
   "source": [
    "12. What is method overriding in OOP?\n",
    "- Method overriding in OOP is a feature where a subclass provides its own specific implementation of a method that is already defined in its parent class. The method in the child class must have the same name, return type, and parameters as the method in the parent class. This allows the subclass to customize or change the inherited behavior to better suit its specific needs, a process that helps achieve runtime polymorphism.  \n"
   ]
  },
  {
   "cell_type": "markdown",
   "id": "957a32fb-221e-4912-8158-d30dc20b0719",
   "metadata": {},
   "source": [
    "13. What is a property decorator in Python?\n",
    "- The @property is a built-in decorator for the property() function in Python. It is used to give \"special\" functionality to certain methods to make them act as getters, setters, or deleters when we define properties in a class.19 Dec 2019\n"
   ]
  },
  {
   "cell_type": "markdown",
   "id": "70163d30-3a8f-4851-a1db-c53b79b8d4b7",
   "metadata": {},
   "source": [
    "14. Why is polymorphism important in OOP?\n",
    "- Polymorphism is important in Object-Oriented Programming (OOP) because it allows a single interface to be used for a general class of actions. This enables developers to write flexible, reusable, and easily extensible code that can handle new objects and functions without requiring major rewrites. \n"
   ]
  },
  {
   "cell_type": "markdown",
   "id": "2dfa5b1f-10a8-4f5a-bff8-b4eff44b7754",
   "metadata": {},
   "source": [
    "15. What is an abstract class in Python?\n",
    "- An abstract class in Python is a class that cannot be instantiated directly and is designed to be a blueprint or template for other classes. It defines a common interface that its subclasses must implement. Abstract classes are a core concept in object-oriented programming, promoting code organization, reusability, and consistency. \n"
   ]
  },
  {
   "cell_type": "markdown",
   "id": "2dfa9eb1-600d-4510-88ea-7c5c8b551898",
   "metadata": {},
   "source": [
    "16. What are the advantages of OOP?\n",
    "- The advantages of Object-Oriented Programming (OOP) include code reusability, making software development faster and more efficient; modularity, which breaks down large systems into smaller, manageable objects for easier development and testing; improved maintainability and flexibility through concepts like inheritance and polymorphism; and enhanced security via data encapsulation, which hides internal details and protects data integrity.  \n"
   ]
  },
  {
   "cell_type": "markdown",
   "id": "1858c089-6b5c-4921-aa31-a2b1c649678e",
   "metadata": {},
   "source": [
    "17. What is the difference between a class variable and an instance variable?\n",
    "- Class variables are accessed using the class name, followed by the variable name. Instance variables are accessed using the instance name, followed by the variable name. Class variable belongs to the class itself, not to any specific instance of the class and is shared by all instances of the class. There is only one copy of a class variable for the entire class. While Instance variables belong to a specific instance (object) of the class. Each instance has its own independent copy of the instance variables. Changes to an instance variable in one object do not affect other objects of the same class. \n"
   ]
  },
  {
   "cell_type": "markdown",
   "id": "f38ad420-d7dd-4751-b85a-9c23bc23cab4",
   "metadata": {},
   "source": [
    "18. What is multiple inheritance in Python?\n",
    "- Multiple inheritance in Python is an object-oriented programming feature that allows a class to inherit attributes and methods from more than one parent class. This means a single child class can combine functionalities and characteristics from multiple distinct base classes.\n"
   ]
  },
  {
   "cell_type": "markdown",
   "id": "955ed682-ea41-4ba3-bd16-e5be8ec1406c",
   "metadata": {},
   "source": [
    "19. Explain the purpose of ‘’__str__’ and ‘__repr__’ ‘ methods in Python.\n",
    "- The __str__ and __repr__ methods in Python are special \"dunder\" (double underscore) methods used to define string representations of objects. They serve distinct purposes:\n",
    "1. __str__(self):\n",
    "To provide a human-readable, \"informal\" string representation of an object, suitable for display to end-users.\n",
    "2. __repr__(self):\n",
    "To provide an unambiguous, \"formal\" string representation of an object, primarily intended for developers and debugging.\n"
   ]
  },
  {
   "cell_type": "markdown",
   "id": "9d0a0762-2d09-479b-ba26-63c0d13cd930",
   "metadata": {},
   "source": [
    "20. What is the significance of the ‘super()’ function in Python?\n",
    "- The super() function in Python holds significant importance within the context of object-oriented programming, particularly concerning inheritance. Its primary role is to provide a mechanism for accessing methods and attributes of a parent or superclass from within a child or subclass.\n",
    "- Key significance of super() function is, Method Overriding and Extension. When a subclass overrides a method from its parent class, super() allows the subclass to still call and utilize the parent's implementation of that method. This enables extending the parent's functionality rather than completely replacing it, promoting code reuse and maintainability.\n"
   ]
  },
  {
   "cell_type": "markdown",
   "id": "d169f6e2-3911-48d3-a158-eed047aab20e",
   "metadata": {},
   "source": [
    "21. What is the significance of the __del__ method in Python?\n",
    "- The __del__ method in Python, often referred to as a destructor, holds significance primarily in resource management and cleanup. It is a special method that is automatically invoked by the Python interpreter when an object is about to be destroyed, typically during garbage collection when all references to the object have been removed. \n",
    "- The main purpose of __del__ is to provide a mechanism for an object to perform cleanup actions before its memory is deallocated. This is crucial for managing external resources that the object might be holding, such as:\n",
    "Closing open file handles.\n",
    "Releasing network connections.\n",
    "Disconnecting from database connections.\n",
    "Freeing up other system-level resources."
   ]
  },
  {
   "cell_type": "markdown",
   "id": "8f9f5d3f-0b7c-4e9a-ab6a-15c8fa47a046",
   "metadata": {},
   "source": [
    "22. What is the difference between @staticmethod and @classmethod in Python?\n",
    "- @clssmethod - Bound to the class: A class method receives the class itself as its first argument, conventionally named cls.\n",
    "Can access and modify class attributes: Since it receives cls, it can access and modify class-level attributes, which are shared by all instances of the class.\n",
    "- @staticmethod - Not bound to the class or instance: A static method does not receive self (the instance) or cls (the class) as its first argument.\n",
    "Cannot access or modify class or instance state: It operates independently of the class or any specific instance.\n",
    "\n"
   ]
  },
  {
   "cell_type": "markdown",
   "id": "07e48707-417e-4524-865f-3b70999a2324",
   "metadata": {},
   "source": [
    "23. How does polymorphism work in Python with inheritance?\n",
    "- Polymorphism in Python, when combined with inheritance, allows objects of different classes to be treated as objects of a common superclass, while still executing the specific implementation of a method defined in their own class. This is primarily achieved through method overriding.\n",
    "how it works:\n",
    "Inheritance: You define a base class (parent class) with certain methods. Subclasses (child classes) then inherit these methods from the base class.\n",
    "Method Overriding: A subclass can provide its own specific implementation for a method that is already defined in its parent class. This re-implementation in the child class is known as method overriding. The overridden method in the child class will have the same name and parameters as the method in the parent class. \n",
    "Polymorphic Behavior: When you have a collection of objects that belong to different subclasses but share a common superclass, you can iterate through this collection and call a method that has been overridden in the subclasses. Python will dynamically determine which specific implementation of the method to call based on the actual type of the object at runtime. This allows you to write generic code that can interact with various types of objects in a uniform way, without needing to know their exact class beforehand."
   ]
  },
  {
   "cell_type": "markdown",
   "id": "42099e95-ba61-4268-942b-c2b1f10defb7",
   "metadata": {},
   "source": [
    "24. What is method chaining in Python OOP?\n",
    "- Method chaining in Python Object-Oriented Programming (OOP) is a technique that allows for calling multiple methods sequentially on the same object in a single expression. This is achieved by designing methods within a class such that each method, after performing its operation, returns an instance of the class itself, typically self.\n"
   ]
  },
  {
   "cell_type": "markdown",
   "id": "f8206375-8e74-41dd-89f0-82106b09ba95",
   "metadata": {},
   "source": [
    "25. What is the purpose of the __call__ method in Python?\n",
    "- The __call__ method in Python serves the purpose of making instances of a class callable like functions. When you define the __call__ method within a class, you can then \"call\" an object (an instance of that class) directly using parentheses, just as you would call a regular function.\n"
   ]
  },
  {
   "cell_type": "markdown",
   "id": "4d0e2f06-102e-4ad4-b6f2-2fdc1ea11250",
   "metadata": {},
   "source": [
    "# Practical Questions"
   ]
  },
  {
   "cell_type": "markdown",
   "id": "d91f582a-616b-4920-a615-e9b416f7d3c2",
   "metadata": {},
   "source": [
    "1. Create a parent class Animal with a method speak() that prints a generic message. Create a child class Dog that overrides the speak() method to print \"Bark!\"."
   ]
  },
  {
   "cell_type": "code",
   "execution_count": 36,
   "id": "59851be3-8ee7-48eb-8729-b3f35badc1dd",
   "metadata": {},
   "outputs": [
    {
     "name": "stdout",
     "output_type": "stream",
     "text": [
      "Bark!\n"
     ]
    }
   ],
   "source": [
    "class Animal:\n",
    "    def __init__(self):\n",
    "        pass\n",
    "\n",
    "    def speak(self):\n",
    "        print(\"animal sounds are different!\")\n",
    "\n",
    "class Dog(Animal):\n",
    "    def speak(self):\n",
    "        print(\"Bark!\")\n",
    "\n",
    "obj = Dog()\n",
    "obj.speak()"
   ]
  },
  {
   "cell_type": "markdown",
   "id": "ca667be5-860a-4623-b25a-fc6adf46efc7",
   "metadata": {},
   "source": [
    "2. Write a program to create an abstract class Shape with a method area(). Derive classes Circle and Rectangle from it and implement the area() method in both."
   ]
  },
  {
   "cell_type": "code",
   "execution_count": 43,
   "id": "a2ac8e62-4d2f-4458-97ab-6053e5d0ac89",
   "metadata": {},
   "outputs": [
    {
     "name": "stdout",
     "output_type": "stream",
     "text": [
      "Area of the circle is:  50.24\n",
      "Area of the rectangle is:  12\n"
     ]
    }
   ],
   "source": [
    "class Shape:\n",
    "    \n",
    "    def area(self):\n",
    "        pass\n",
    "\n",
    "class Circle(Shape):\n",
    "\n",
    "    def __init__(self,radius):\n",
    "        self.radius = radius\n",
    "\n",
    "    def area(self):\n",
    "        return 3.14*self.radius*self.radius\n",
    "\n",
    "class Rectangle(Shape):\n",
    "\n",
    "    def __init__(self,x,y):\n",
    "        self.x = x\n",
    "        self.y = y\n",
    "\n",
    "    def area(self):\n",
    "        return self.x*self.y\n",
    "\n",
    "obj1 = Circle(4)\n",
    "obj2 = Rectangle(2,6)\n",
    "print(\"Area of the circle is: \",obj1.area())\n",
    "print(\"Area of the rectangle is: \",obj2.area())\n",
    "    "
   ]
  },
  {
   "cell_type": "markdown",
   "id": "1ff7dfbd-7916-4f98-964f-2a1dde4e71cb",
   "metadata": {},
   "source": [
    "3. Implement a multi-level inheritance scenario where a class Vehicle has an attribute type. Derive a class Car and further derive a class ElectricCar that adds a battery attribute."
   ]
  },
  {
   "cell_type": "code",
   "execution_count": 76,
   "id": "2c810b99-7f31-4353-a8e3-ffab5d24f7c5",
   "metadata": {},
   "outputs": [
    {
     "name": "stdout",
     "output_type": "stream",
     "text": [
      "Display type is:  HD Touch\n",
      "Milage is:  80\n",
      "Battery capacity of the car is:  100\n"
     ]
    }
   ],
   "source": [
    "class Vehicle:\n",
    "    def __init__(self,dtype,max_speed):\n",
    "        self.dtype = dtype\n",
    "        self.max_speed = max_speed\n",
    "\n",
    "    def display_type(self):\n",
    "        print(\"Display type is: \",self.dtype)\n",
    "\n",
    "class Car(Vehicle):\n",
    "    def __init__(self,dtype,max_speed,milage):\n",
    "        super().__init__(dtype,max_speed)\n",
    "        self.milage = milage\n",
    "\n",
    "    def diplay_milage(self):\n",
    "        print(\"Milage is: \",self.milage)\n",
    "\n",
    "class ElectricCar(Car):\n",
    "    def __init__(self,dtype,max_speed,milage,battery):\n",
    "        super().__init__(dtype,max_speed,milage)\n",
    "        self.battery = battery\n",
    "\n",
    "    def display_battery(self):\n",
    "        print(\"Battery capacity of the car is: \",self.battery)\n",
    "\n",
    "obj = ElectricCar(\"HD Touch\",600,80,100)\n",
    "obj.display_type()\n",
    "obj.diplay_milage()\n",
    "obj.display_battery()"
   ]
  },
  {
   "cell_type": "markdown",
   "id": "75720d35-41d3-424c-ba77-7ce2982e9e34",
   "metadata": {},
   "source": [
    "4. Demonstrate polymorphism by creating a base class Bird with a method fly(). Create two derived classes Sparrow and Penguin that override the fly() method."
   ]
  },
  {
   "cell_type": "code",
   "execution_count": 81,
   "id": "e3e575c8-45c0-48eb-85b2-e8826128c399",
   "metadata": {},
   "outputs": [
    {
     "name": "stdout",
     "output_type": "stream",
     "text": [
      "Sparrow is flying!\n",
      "Penguin can not fly.\n"
     ]
    }
   ],
   "source": [
    "class Bird:\n",
    "    def __init__(self):\n",
    "        pass\n",
    "        \n",
    "    def fly(self):\n",
    "        print(\"Birds can be of flying and non flying type.\")\n",
    "\n",
    "class Sparrow(Bird):\n",
    "    def fly(self):\n",
    "        print(\"Sparrow is flying!\")\n",
    "\n",
    "class Penguin(Bird):\n",
    "    def fly(self):\n",
    "        print(\"Penguin can not fly.\")\n",
    "\n",
    "obj1 = Sparrow()\n",
    "obj2 = Penguin()\n",
    "obj1.fly()\n",
    "obj2.fly()"
   ]
  },
  {
   "cell_type": "markdown",
   "id": "62163ef8-fd36-4093-babb-045066fbda0c",
   "metadata": {},
   "source": [
    "5. Write a program to demonstrate encapsulation by creating a class BankAccount with private attributes balance and methods to deposit, withdraw, and check balance."
   ]
  },
  {
   "cell_type": "code",
   "execution_count": 13,
   "id": "64e2d88a-b60f-4916-917b-f5d94864316c",
   "metadata": {},
   "outputs": [
    {
     "name": "stdout",
     "output_type": "stream",
     "text": [
      "Account balance is:  1000\n",
      "Account balance is:  1500\n",
      "Account balance is:  500\n"
     ]
    }
   ],
   "source": [
    "class BankAccount:\n",
    "    def __init__(self,balance):\n",
    "        self.__balance = balance\n",
    "\n",
    "    def deposit(self,amount):\n",
    "        self.__balance += amount\n",
    "\n",
    "    def withdraw(self,amount):\n",
    "        if amount <= self.__balance:\n",
    "            self.__balance -= amount\n",
    "        else:\n",
    "            print(\"Not enough balance.\")\n",
    "\n",
    "    def check_balance(self):\n",
    "        print(\"Account balance is: \", self.__balance)\n",
    "\n",
    "acc = BankAccount(1000)\n",
    "acc.check_balance()\n",
    "acc.deposit(500)\n",
    "acc.check_balance()\n",
    "acc.withdraw(1000)\n",
    "acc.check_balance()\n",
    "    "
   ]
  },
  {
   "cell_type": "markdown",
   "id": "27b7dda7-022f-4a4c-a7ac-84ffa81c960a",
   "metadata": {},
   "source": [
    "6. Demonstrate runtime polymorphism using a method play() in a base class Instrument. Derive classes Guitar and Piano that implement their own version of play()."
   ]
  },
  {
   "cell_type": "code",
   "execution_count": 22,
   "id": "9444df58-bb54-4e10-835a-4c2f0f58f2b5",
   "metadata": {},
   "outputs": [
    {
     "name": "stdout",
     "output_type": "stream",
     "text": [
      "Different instruments can be played differently to produce different sounds/rythem\n",
      "Guitar sound\n",
      "Piano sound\n"
     ]
    }
   ],
   "source": [
    "class Instrument:\n",
    "    def play(self):\n",
    "        print(\"Different instruments can be played differently to produce different sounds/rythem\")\n",
    "\n",
    "class Guitar(Instrument):\n",
    "    def play(self):\n",
    "        print(\"Guitar sound\")\n",
    "\n",
    "class Piano(Instrument):\n",
    "    def play(self):\n",
    "        print(\"Piano sound\")\n",
    "\n",
    "ob1 = Instrument()\n",
    "ob2 = Guitar()\n",
    "ob3 = Piano()\n",
    "\n",
    "ob1.play()\n",
    "ob2.play()\n",
    "ob3.play()"
   ]
  },
  {
   "cell_type": "markdown",
   "id": "c5d40a7e-a662-4cc6-a559-a26fe27729ac",
   "metadata": {},
   "source": [
    "7. Create a class MathOperations with a class method add_numbers() to add two numbers and a static method subtract_numbers() to subtract two numbers."
   ]
  },
  {
   "cell_type": "code",
   "execution_count": 40,
   "id": "c1aee4f4-5d67-4c3b-bbdb-a457a045d448",
   "metadata": {},
   "outputs": [
    {
     "name": "stdout",
     "output_type": "stream",
     "text": [
      "Sum =  15\n",
      "Subtraction =  5\n"
     ]
    }
   ],
   "source": [
    "class MathOperations:\n",
    "    \n",
    "    @classmethod\n",
    "    def add_numbers(cls,x,y):\n",
    "        return x+y\n",
    "\n",
    "    @staticmethod\n",
    "    def subtract_numbers(a1,a2):\n",
    "        return a1-a2\n",
    "\n",
    "print(\"Sum = \",MathOperations.add_numbers(5,10))\n",
    "print(\"Subtraction = \",MathOperations.subtract_numbers(10,5))\n",
    "        "
   ]
  },
  {
   "cell_type": "markdown",
   "id": "749f9f7d-52fe-4e07-8d60-e07a3e68a665",
   "metadata": {},
   "source": [
    "8. Implement a class Person with a class method to count the total number of persons created."
   ]
  },
  {
   "cell_type": "code",
   "execution_count": 44,
   "id": "6c5e9032-12c2-4141-8ead-b39baec82e5e",
   "metadata": {},
   "outputs": [
    {
     "name": "stdout",
     "output_type": "stream",
     "text": [
      "Total [ersons count:  2\n"
     ]
    }
   ],
   "source": [
    "class Person:\n",
    "\n",
    "    count = 0\n",
    "\n",
    "    def __init__(self,name):\n",
    "        self.name = name\n",
    "        Person.count += 1\n",
    "    \n",
    "    @classmethod\n",
    "    def total_persons(cls):\n",
    "        print(\"Total [ersons count: \",cls.count)\n",
    "\n",
    "\n",
    "p1 = Person(\"Jigna\")\n",
    "p2 = Person(\"Aakash\")\n",
    "Person.total_persons()"
   ]
  },
  {
   "cell_type": "markdown",
   "id": "1efc6341-7fd1-46be-a67e-5783ac0d5d72",
   "metadata": {},
   "source": [
    "9. Write a class Fraction with attributes numerator and denominator. Override the str method to display the fraction as \"numerator/denominator\"."
   ]
  },
  {
   "cell_type": "code",
   "execution_count": 51,
   "id": "c053da32-fd98-42f3-84bf-21137a497588",
   "metadata": {},
   "outputs": [
    {
     "name": "stdout",
     "output_type": "stream",
     "text": [
      "3/4\n"
     ]
    }
   ],
   "source": [
    "class Fraction:\n",
    "    def __init__(self,numerator,denominator):\n",
    "        self.numerator = numerator\n",
    "        self.denominator = denominator\n",
    "\n",
    "    def __str__(self):\n",
    "        return f\"{self.numerator}/{self.denominator}\"\n",
    "\n",
    "f = Fraction(3,4)\n",
    "print(f)"
   ]
  },
  {
   "cell_type": "markdown",
   "id": "ea2bec40-04d8-40a1-a4b4-32c1d0662d98",
   "metadata": {},
   "source": [
    "10. Demonstrate operator overloading by creating a class Vector and overriding the add method to add two vectors"
   ]
  },
  {
   "cell_type": "code",
   "execution_count": 64,
   "id": "057c7991-4c0c-41a0-a649-52533cd88402",
   "metadata": {},
   "outputs": [
    {
     "name": "stdout",
     "output_type": "stream",
     "text": [
      "(8,10)\n"
     ]
    }
   ],
   "source": [
    "class Vector:\n",
    "    def __init__(self,x,y):\n",
    "        self.x = x\n",
    "        self.y = y\n",
    "\n",
    "    def __add__(self,other):\n",
    "        return Vector(self.x+other.x,self.y+other.y)\n",
    "\n",
    "    def __str__(self):\n",
    "        return f\"({self.x},{self.y})\"\n",
    "\n",
    "v1 = Vector(3,4)\n",
    "v2 = Vector(5,6)\n",
    "v3 = v1+v2\n",
    "\n",
    "print(v3)"
   ]
  },
  {
   "cell_type": "markdown",
   "id": "c1537a8e-a491-44c2-98f5-30e494741aca",
   "metadata": {},
   "source": [
    "11. Create a class Person with attributes name and age. Add a method greet() that prints \"Hello, my name is {name} and I am {age} years old.\""
   ]
  },
  {
   "cell_type": "code",
   "execution_count": 69,
   "id": "d850453e-8e7d-4576-8379-fb4b5014c965",
   "metadata": {},
   "outputs": [
    {
     "name": "stdout",
     "output_type": "stream",
     "text": [
      "Hello, my name is Jigna  and I am  32 years old.\n"
     ]
    }
   ],
   "source": [
    "class Person:\n",
    "    def __init__(self,name,age):\n",
    "        self.name = name\n",
    "        self.age = age\n",
    "\n",
    "    def greet(self):\n",
    "        print(\"Hello, my name is\",self.name,\" and I am \",self.age,\"years old.\")\n",
    "\n",
    "obj = Person(\"Jigna\",32)\n",
    "obj.greet()"
   ]
  },
  {
   "cell_type": "markdown",
   "id": "8a0f3727-52d5-47f1-a17c-74c31ff3b75a",
   "metadata": {},
   "source": [
    "12. Implement a class Student with attributes name and grades. Create a method average_grade() to compute the average of the grades."
   ]
  },
  {
   "cell_type": "code",
   "execution_count": 76,
   "id": "3120b0a0-fc56-41a9-82e7-2f4e92ba1eae",
   "metadata": {},
   "outputs": [
    {
     "name": "stdout",
     "output_type": "stream",
     "text": [
      "Jigna's average grade is: 97.66666666666667\n"
     ]
    }
   ],
   "source": [
    "class Student:\n",
    "    def __init__(self,name,grades):\n",
    "        self.name = name\n",
    "        self.grades = grades\n",
    "\n",
    "    def average_grade(self):\n",
    "        if len(self.grades) == 0:\n",
    "            return 0\n",
    "        else:\n",
    "            return sum(self.grades)/len(self.grades)\n",
    "\n",
    "s1 = Student(\"Jigna\",[100,95,98])\n",
    "print(f\"{s1.name}'s average grade is:\",s1.average_grade())"
   ]
  },
  {
   "cell_type": "markdown",
   "id": "eb0e0f60-4aac-40d5-a245-e818413d0236",
   "metadata": {},
   "source": [
    "13. Create a class Rectangle with methods set_dimensions() to set the dimensions and area() to calculate the area"
   ]
  },
  {
   "cell_type": "code",
   "execution_count": 85,
   "id": "63690158-b4f4-47c8-bb27-e63459d46de3",
   "metadata": {},
   "outputs": [
    {
     "data": {
      "text/plain": [
       "24"
      ]
     },
     "execution_count": 85,
     "metadata": {},
     "output_type": "execute_result"
    }
   ],
   "source": [
    "class Rectangle:\n",
    "    def __init__(self):\n",
    "        self.length = 0\n",
    "        self.width = 0\n",
    "\n",
    "    def set_dimensions(self,length,width):\n",
    "        self.length = length\n",
    "        self.width = width\n",
    "\n",
    "    def area(self):\n",
    "        return self.length * self.width\n",
    "\n",
    "rect = Rectangle()\n",
    "rect.set_dimensions(4,6)\n",
    "rect.area()"
   ]
  },
  {
   "cell_type": "markdown",
   "id": "d6deeb50-ea25-443c-bcc9-0749bb65a2f6",
   "metadata": {},
   "source": [
    "14. Create a class Employee with a method calculate_salary() that computes the salary based on hours worked and hourly rate. Create a derived class Manager that adds a bonus to the salary."
   ]
  },
  {
   "cell_type": "code",
   "execution_count": 104,
   "id": "aaaf5240-1013-4524-b0c0-5dc9a094d876",
   "metadata": {},
   "outputs": [
    {
     "name": "stdout",
     "output_type": "stream",
     "text": [
      "Jigna's salary: 2000\n",
      "Aakash's salary: 3000\n"
     ]
    }
   ],
   "source": [
    "class Employee:\n",
    "    def __init__(self,name,hours_worked,hourly_rate):\n",
    "        self.name = name\n",
    "        self.hours_worked = hours_worked\n",
    "        self.hourly_rate = hourly_rate\n",
    "\n",
    "    def calculate_salary(self):\n",
    "        return self.hours_worked * self.hourly_rate\n",
    "\n",
    "\n",
    "class Manager(Employee):\n",
    "    def __init__(self,name,hours_worked,hourly_rate,bonus):\n",
    "        super().__init__(name,hours_worked,hourly_rate)\n",
    "        self.bonus = bonus\n",
    "\n",
    "    def calculate_salary(self):\n",
    "        return super().calculate_salary() + self.bonus\n",
    "\n",
    "e1 = Employee(\"Jigna\",40,50)\n",
    "m1 = Manager(\"Aakash\",40,50,1000)\n",
    "\n",
    "print(f\"{e1.name}'s salary: {e1.calculate_salary()}\")\n",
    "print(f\"{m1.name}'s salary: {m1.calculate_salary()}\")\n"
   ]
  },
  {
   "cell_type": "markdown",
   "id": "82d7ed89-4a93-44f7-9d07-a4626a861974",
   "metadata": {},
   "source": [
    "15. Create a class Product with attributes name, price, and quantity. Implement a method total_price() that calculates the total price of the product."
   ]
  },
  {
   "cell_type": "code",
   "execution_count": 121,
   "id": "4e306e22-5215-4847-8825-328b8ab676f2",
   "metadata": {},
   "outputs": [
    {
     "name": "stdout",
     "output_type": "stream",
     "text": [
      "Total price of the laptops is: 150000\n"
     ]
    }
   ],
   "source": [
    "class Product:\n",
    "    def __init__(self,name,price,quantity):\n",
    "        self.name = name\n",
    "        self.price = price\n",
    "        self.quantity = quantity\n",
    "\n",
    "    def total_price(self):\n",
    "        return self.price * self.quantity\n",
    "\n",
    "d1 = Product(\"Laptop\",50000,3)\n",
    "print(f\"Total price of the laptops is: {d1.total_price()}\")"
   ]
  },
  {
   "cell_type": "markdown",
   "id": "e724fd67-b18a-4bd7-8ef7-5c11415dd7db",
   "metadata": {},
   "source": [
    "16. Create a class Animal with an abstract method sound(). Create two derived classes Cow and Sheep that implement the sound() method."
   ]
  },
  {
   "cell_type": "code",
   "execution_count": 130,
   "id": "498105c3-beec-4f06-b09a-520afd0340e5",
   "metadata": {},
   "outputs": [
    {
     "name": "stdout",
     "output_type": "stream",
     "text": [
      "Mooo\n",
      "Baaaa\n"
     ]
    }
   ],
   "source": [
    "from abc import ABC, abstractmethod\n",
    "\n",
    "class Animal:\n",
    "    @abstractmethod\n",
    "    def sound(self):\n",
    "        pass\n",
    "\n",
    "class Cow(Animal):\n",
    "    def sound(self):\n",
    "        print(\"Mooo\")\n",
    "\n",
    "class Sheep(Animal):\n",
    "    def sound(self):\n",
    "        print(\"Baaaa\")\n",
    "\n",
    "c1 = Cow()\n",
    "s1 = Sheep()\n",
    "\n",
    "c1.sound()\n",
    "s1.sound()"
   ]
  },
  {
   "cell_type": "markdown",
   "id": "2ae1d4d9-76d3-4abb-a5f3-aad35d42dce3",
   "metadata": {},
   "source": [
    "17. Create a class Book with attributes title, author, and year_published. Add a method get_book_info() that returns a formatted string with the book's details."
   ]
  },
  {
   "cell_type": "code",
   "execution_count": 135,
   "id": "35770574-e3a8-4a59-8541-b0d2a1998892",
   "metadata": {},
   "outputs": [
    {
     "data": {
      "text/plain": [
       "'Data Science by Pablo, published in 1990'"
      ]
     },
     "execution_count": 135,
     "metadata": {},
     "output_type": "execute_result"
    }
   ],
   "source": [
    "class Book:\n",
    "    def __init__(self,title,author,year_published):\n",
    "        self.title = title\n",
    "        self.author = author\n",
    "        self.year_published = year_published\n",
    "\n",
    "    def get_book_info(self):\n",
    "        return f\"{self.title} by {self.author}, published in {self.year_published}\"\n",
    "\n",
    "b1 = Book(\"Data Science\",\"Pablo\",1990)\n",
    "b1.get_book_info()"
   ]
  },
  {
   "cell_type": "markdown",
   "id": "f21b2e6f-77a0-46cc-b753-1404104a060b",
   "metadata": {},
   "source": [
    "18. Create a class House with attributes address and price. Create a derived class Mansion that adds an attribute number_of_rooms."
   ]
  },
  {
   "cell_type": "code",
   "execution_count": 150,
   "id": "060f97c6-573a-49e2-981b-a3d33e29909b",
   "metadata": {},
   "outputs": [
    {
     "name": "stdout",
     "output_type": "stream",
     "text": [
      "Property at Yong street costs $70000000 and it has 10\n"
     ]
    }
   ],
   "source": [
    "class House:\n",
    "    def __init__(self,address,price):\n",
    "        self.address = address\n",
    "        self.price = price\n",
    "\n",
    "    def property_info(self):\n",
    "        return f\"Property at {self.address} costs ${self.price}\"\n",
    "\n",
    "class Mansion(House):\n",
    "    def __init__(self,address,price,number_of_rooms):\n",
    "        super().__init__(address,price)\n",
    "        self.number_of_rooms = number_of_rooms\n",
    "\n",
    "    def property_info(self):\n",
    "        return super().property_info() + f\" and it has {self.number_of_rooms}\"\n",
    "\n",
    "men1 = Mansion(\"Yong street\",70000000,10)\n",
    "print(men1.property_info())\n",
    "    "
   ]
  }
 ],
 "metadata": {
  "kernelspec": {
   "display_name": "Python [conda env:base] *",
   "language": "python",
   "name": "conda-base-py"
  },
  "language_info": {
   "codemirror_mode": {
    "name": "ipython",
    "version": 3
   },
   "file_extension": ".py",
   "mimetype": "text/x-python",
   "name": "python",
   "nbconvert_exporter": "python",
   "pygments_lexer": "ipython3",
   "version": "3.12.7"
  }
 },
 "nbformat": 4,
 "nbformat_minor": 5
}
